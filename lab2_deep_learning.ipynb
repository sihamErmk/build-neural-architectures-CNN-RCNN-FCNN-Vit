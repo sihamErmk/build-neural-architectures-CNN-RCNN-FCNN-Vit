{
  "cells": [
    {
      "cell_type": "code",
      "source": [
        "import torch\n",
        "import torch.nn as nn\n",
        "import torch.nn.functional as F\n",
        "import torch.optim as optim\n",
        "import torchvision\n",
        "import torchvision.transforms as transforms\n",
        "from torch.utils.data import DataLoader\n",
        "import time\n",
        "from sklearn.metrics import accuracy_score, f1_score\n",
        "\n",
        "device = torch.device(\"cuda\" if torch.cuda.is_available() else \"cpu\")\n",
        "print(f\"Using device: {device}\")"
      ],
      "metadata": {
        "id": "T9RxT-7H5Xmo",
        "colab": {
          "base_uri": "https://localhost:8080/"
        },
        "outputId": "38ed0017-6be3-4087-f4d0-2ad4a52cdc8f"
      },
      "execution_count": 1,
      "outputs": [
        {
          "output_type": "stream",
          "name": "stdout",
          "text": [
            "Using device: cuda\n"
          ]
        }
      ]
    },
    {
      "cell_type": "code",
      "source": [
        "transform = transforms.Compose([\n",
        "    transforms.ToTensor(),\n",
        "    transforms.Normalize((0.1307,), (0.3081,))\n",
        "])\n",
        "\n",
        "train_dataset = torchvision.datasets.MNIST(root='./data', train=True, download=True, transform=transform)\n",
        "test_dataset = torchvision.datasets.MNIST(root='./data', train=False, download=True, transform=transform)\n",
        "\n",
        "train_loader = DataLoader(train_dataset, batch_size=64, shuffle=True)\n",
        "test_loader = DataLoader(test_dataset, batch_size=64, shuffle=False)"
      ],
      "metadata": {
        "id": "uyH2ZgadtoQp"
      },
      "execution_count": 2,
      "outputs": []
    },
    {
      "cell_type": "code",
      "source": [
        "class CNN(nn.Module):\n",
        "    def __init__(self):\n",
        "        super(CNN, self).__init__()\n",
        "        self.conv1 = nn.Conv2d(1, 32, kernel_size=3, padding=1)\n",
        "        self.pool1 = nn.MaxPool2d(kernel_size=2, stride=2)\n",
        "        self.conv2 = nn.Conv2d(32, 64, kernel_size=3, padding=1)\n",
        "        self.pool2 = nn.MaxPool2d(kernel_size=2, stride=2)\n",
        "        self.dropout = nn.Dropout(p=0.5)\n",
        "        self.fc1 = nn.Linear(64 * 7 * 7, 128)\n",
        "        self.fc2 = nn.Linear(128, 10)\n",
        "\n",
        "    def forward(self, x):\n",
        "        x = F.relu(self.conv1(x))\n",
        "        x = self.pool1(x)\n",
        "        x = F.relu(self.conv2(x))\n",
        "        x = self.pool2(x)\n",
        "        x = x.view(-1, 64 * 7 * 7)\n",
        "        x = self.dropout(x)\n",
        "        x = F.relu(self.fc1(x))\n",
        "        x = self.fc2(x)\n",
        "        return x\n",
        "\n",
        "model_cnn = CNN().to(device)"
      ],
      "metadata": {
        "id": "MuQtQEXNtuez"
      },
      "execution_count": 3,
      "outputs": []
    },
    {
      "cell_type": "code",
      "source": [
        "def train_model(model, train_loader, criterion, optimizer, device):\n",
        "    model.train()\n",
        "    running_loss = 0.0\n",
        "    correct = 0\n",
        "    total = 0\n",
        "    for images, labels in train_loader:\n",
        "        images, labels = images.to(device), labels.to(device)\n",
        "        optimizer.zero_grad()\n",
        "        outputs = model(images)\n",
        "        loss = criterion(outputs, labels)\n",
        "        loss.backward()\n",
        "        optimizer.step()\n",
        "        running_loss += loss.item()\n",
        "        _, predicted = torch.max(outputs.data, 1)\n",
        "        total += labels.size(0)\n",
        "        correct += (predicted == labels).sum().item()\n",
        "    epoch_loss = running_loss / len(train_loader)\n",
        "    epoch_acc = 100 * correct / total\n",
        "    return epoch_loss, epoch_acc\n",
        "\n",
        "def evaluate_model(model, test_loader, criterion, device):\n",
        "    model.eval()\n",
        "    running_loss = 0.0\n",
        "    all_preds = []\n",
        "    all_labels = []\n",
        "    with torch.no_grad():\n",
        "        for images, labels in test_loader:\n",
        "            images, labels = images.to(device), labels.to(device)\n",
        "            outputs = model(images)\n",
        "            loss = criterion(outputs, labels)\n",
        "            running_loss += loss.item()\n",
        "            _, predicted = torch.max(outputs.data, 1)\n",
        "            all_preds.extend(predicted.cpu().numpy())\n",
        "            all_labels.extend(labels.cpu().numpy())\n",
        "    test_loss = running_loss / len(test_loader)\n",
        "    test_acc = accuracy_score(all_labels, all_preds) * 100\n",
        "    test_f1 = f1_score(all_labels, all_preds, average='macro') * 100\n",
        "    return test_loss, test_acc, test_f1"
      ],
      "metadata": {
        "id": "RPwedpHStwNM"
      },
      "execution_count": 4,
      "outputs": []
    },
    {
      "cell_type": "code",
      "source": [
        "criterion = nn.CrossEntropyLoss()\n",
        "optimizer = optim.Adam(model_cnn.parameters(), lr=0.001)\n",
        "num_epochs = 10\n",
        "\n",
        "start_time = time.time()\n",
        "for epoch in range(num_epochs):\n",
        "    train_loss, train_acc = train_model(model_cnn, train_loader, criterion, optimizer, device)\n",
        "    print(f\"Epoch {epoch+1}/{num_epochs}, Train Loss: {train_loss:.4f}, Train Acc: {train_acc:.2f}%\")\n",
        "cnn_training_time = time.time() - start_time\n",
        "\n",
        "test_loss_cnn, test_acc_cnn, test_f1_cnn = evaluate_model(model_cnn, test_loader, criterion, device)\n",
        "print(f\"CNN - Test Loss: {test_loss_cnn:.4f}, Test Acc: {test_acc_cnn:.2f}%, Test F1: {test_f1_cnn:.2f}%, Training Time: {cnn_training_time:.2f}s\")"
      ],
      "metadata": {
        "id": "9a_-5iwat1sQ",
        "colab": {
          "base_uri": "https://localhost:8080/"
        },
        "outputId": "7a5c1ffc-2b07-4091-b7ad-9906cdf71bc3"
      },
      "execution_count": 5,
      "outputs": [
        {
          "output_type": "stream",
          "name": "stdout",
          "text": [
            "Epoch 1/10, Train Loss: 0.1637, Train Acc: 94.97%\n",
            "Epoch 2/10, Train Loss: 0.0638, Train Acc: 98.00%\n",
            "Epoch 3/10, Train Loss: 0.0484, Train Acc: 98.45%\n",
            "Epoch 4/10, Train Loss: 0.0396, Train Acc: 98.69%\n",
            "Epoch 5/10, Train Loss: 0.0328, Train Acc: 98.91%\n",
            "Epoch 6/10, Train Loss: 0.0290, Train Acc: 99.03%\n",
            "Epoch 7/10, Train Loss: 0.0259, Train Acc: 99.15%\n",
            "Epoch 8/10, Train Loss: 0.0244, Train Acc: 99.21%\n",
            "Epoch 9/10, Train Loss: 0.0205, Train Acc: 99.31%\n",
            "Epoch 10/10, Train Loss: 0.0195, Train Acc: 99.38%\n",
            "CNN - Test Loss: 0.0250, Test Acc: 99.22%, Test F1: 99.22%, Training Time: 150.50s\n"
          ]
        }
      ]
    },
    {
      "cell_type": "code",
      "source": [
        "from torchvision.models import resnet50\n",
        "\n",
        "model_resnet = resnet50(pretrained=True)\n",
        "model_resnet.fc = nn.Linear(2048, 10)  # Replace fc layer for 10 classes\n",
        "model_resnet = model_resnet.to(device)"
      ],
      "metadata": {
        "id": "RAwj5Kngufg6"
      },
      "execution_count": null,
      "outputs": []
    },
    {
      "cell_type": "code",
      "source": [
        "transform_resnet = transforms.Compose([\n",
        "    transforms.Resize((224, 224)),\n",
        "    transforms.ToTensor(),\n",
        "    transforms.Lambda(lambda x: x.repeat(3, 1, 1)),  # Repeat grayscale to 3 channels\n",
        "    transforms.Normalize(mean=[0.485, 0.456, 0.406], std=[0.229, 0.224, 0.225])\n",
        "])\n",
        "\n",
        "train_dataset_resnet = torchvision.datasets.MNIST(root='./data', train=True, download=True, transform=transform_resnet)\n",
        "test_dataset_resnet = torchvision.datasets.MNIST(root='./data', train=False, download=True, transform=transform_resnet)\n",
        "\n",
        "train_loader_resnet = DataLoader(train_dataset_resnet, batch_size=64, shuffle=True)\n",
        "test_loader_resnet = DataLoader(test_dataset_resnet, batch_size=64, shuffle=False)"
      ],
      "metadata": {
        "id": "lQ9Fi2GZuiC2"
      },
      "execution_count": null,
      "outputs": []
    },
    {
      "cell_type": "code",
      "source": [
        "optimizer_resnet = optim.Adam(model_resnet.parameters(), lr=0.001)\n",
        "\n",
        "start_time = time.time()\n",
        "for epoch in range(num_epochs):\n",
        "    train_loss, train_acc = train_model(model_resnet, train_loader_resnet, criterion, optimizer_resnet, device)\n",
        "    print(f\"Epoch {epoch+1}/{num_epochs}, Train Loss: {train_loss:.4f}, Train Acc: {train_acc:.2f}%\")\n",
        "resnet_training_time = time.time() - start_time\n",
        "\n",
        "test_loss_resnet, test_acc_resnet, test_f1_resnet = evaluate_model(model_resnet, test_loader_resnet, criterion, device)\n",
        "print(f\"ResNet50 - Test Loss: {test_loss_resnet:.4f}, Test Acc: {test_acc_resnet:.2f}%, Test F1: {test_f1_resnet:.2f}%, Training Time: {resnet_training_time:.2f}s\")"
      ],
      "metadata": {
        "id": "TPi8y7U-uloQ",
        "colab": {
          "base_uri": "https://localhost:8080/"
        },
        "outputId": "0214be5d-31c9-406d-f000-e58848101762"
      },
      "execution_count": null,
      "outputs": [
        {
          "output_type": "stream",
          "name": "stdout",
          "text": [
            "Epoch 1/10, Train Loss: 0.0954, Train Acc: 97.08%\n",
            "Epoch 2/10, Train Loss: 0.0490, Train Acc: 98.52%\n"
          ]
        }
      ]
    },
    {
      "cell_type": "code",
      "source": [
        "print(\"Model Comparison:\")\n",
        "print(f\"CNN: Loss={test_loss_cnn:.4f}, Acc={test_acc_cnn:.2f}%, F1={test_f1_cnn:.2f}%, Time={cnn_training_time:.2f}s\")\n",
        "print(f\"ResNet50: Loss={test_loss_resnet:.4f}, Acc={test_acc_resnet:.2f}%, F1={test_f1_resnet:.2f}%, Time={resnet_training_time:.2f}s\")"
      ],
      "metadata": {
        "id": "G4RH7f2puz-_"
      },
      "execution_count": null,
      "outputs": []
    },
    {
      "cell_type": "code",
      "source": [
        "from torchvision.models import vgg16\n",
        "\n",
        "model_vgg = vgg16(pretrained=True)\n",
        "model_vgg.classifier[6] = nn.Linear(4096, 10)\n",
        "model_vgg = model_vgg.to(device)\n",
        "\n",
        "optimizer_vgg = optim.Adam(model_vgg.parameters(), lr=0.001)\n",
        "\n",
        "start_time = time.time()\n",
        "for epoch in range(num_epochs):\n",
        "    train_loss, train_acc = train_model(model_vgg, train_loader_resnet, criterion, optimizer_vgg, device)\n",
        "    print(f\"Epoch {epoch+1}/{num_epochs}, Train Loss: {train_loss:.4f}, Train Acc: {train_acc:.2f}%\")\n",
        "vgg_training_time = time.time() - start_time\n",
        "\n",
        "test_loss_vgg, test_acc_vgg, test_f1_vgg = evaluate_model(model_vgg, test_loader_resnet, criterion, device)\n",
        "print(f\"VGG16 - Test Loss: {test_loss_vgg:.4f}, Test Acc: {test_acc_vgg:.2f}%, Test F1: {test_f1_vgg:.2f}%, Training Time: {vgg_training_time:.2f}s\")"
      ],
      "metadata": {
        "id": "3ZK5Gj3Qv_FG"
      },
      "execution_count": null,
      "outputs": []
    },
    {
      "cell_type": "code",
      "source": [
        "from torchvision.models import alexnet\n",
        "\n",
        "model_alex = alexnet(pretrained=True)\n",
        "model_alex.classifier[6] = nn.Linear(4096, 10)\n",
        "model_alex = model_alex.to(device)\n",
        "\n",
        "optimizer_alex = optim.Adam(model_alex.parameters(), lr=0.001)\n",
        "\n",
        "start_time = time.time()\n",
        "for epoch in range(num_epochs):\n",
        "    train_loss, train_acc = train_model(model_alex, train_loader_resnet, criterion, optimizer_alex, device)\n",
        "    print(f\"Epoch {epoch+1}/{num_epochs}, Train Loss: {train_loss:.4f}, Train Acc: {train_acc:.2f}%\")\n",
        "alex_training_time = time.time() - start_time\n",
        "\n",
        "test_loss_alex, test_acc_alex, test_f1_alex = evaluate_model(model_alex, test_loader_resnet, criterion, device)\n",
        "print(f\"AlexNet - Test Loss: {test_loss_alex:.4f}, Test Acc: {test_acc_alex:.2f}%, Test F1: {test_f1_alex:.2f}%, Training Time: {alex_training_time:.2f}s\")"
      ],
      "metadata": {
        "id": "yWZLAoSqwB3E"
      },
      "execution_count": null,
      "outputs": []
    },
    {
      "cell_type": "code",
      "source": [
        "from torchvision.models import alexnet\n",
        "\n",
        "model_alex = alexnet(pretrained=True)\n",
        "model_alex.classifier[6] = nn.Linear(4096, 10)\n",
        "model_alex = model_alex.to(device)\n",
        "\n",
        "optimizer_alex = optim.Adam(model_alex.parameters(), lr=0.001)\n",
        "\n",
        "start_time = time.time()\n",
        "for epoch in range(num_epochs):\n",
        "    train_loss, train_acc = train_model(model_alex, train_loader_resnet, criterion, optimizer_alex, device)\n",
        "    print(f\"Epoch {epoch+1}/{num_epochs}, Train Loss: {train_loss:.4f}, Train Acc: {train_acc:.2f}%\")\n",
        "alex_training_time = time.time() - start_time\n",
        "\n",
        "test_loss_alex, test_acc_alex, test_f1_alex = evaluate_model(model_alex, test_loader_resnet, criterion, device)\n",
        "print(f\"AlexNet - Test Loss: {test_loss_alex:.4f}, Test Acc: {test_acc_alex:.2f}%, Test F1: {test_f1_alex:.2f}%, Training Time: {alex_training_time:.2f}s\")"
      ],
      "metadata": {
        "id": "7DfeIUgywIRK"
      },
      "execution_count": null,
      "outputs": []
    },
    {
      "cell_type": "code",
      "source": [
        "print(\"Final Comparison:\")\n",
        "print(f\"CNN: Loss={test_loss_cnn:.4f}, Acc={test_acc_cnn:.2f}%, F1={test_f1_cnn:.2f}%, Time={cnn_training_time:.2f}s\")\n",
        "print(f\"ResNet50: Loss={test_loss_resnet:.4f}, Acc={test_acc_resnet:.2f}%, F1={test_f1_resnet:.2f}%, Time={resnet_training_time:.2f}s\")\n",
        "print(f\"VGG16: Loss={test_loss_vgg:.4f}, Acc={test_acc_vgg:.2f}%, F1={test_f1_vgg:.2f}%, Time={vgg_training_time:.2f}s\")\n",
        "print(f\"AlexNet: Loss={test_loss_alex:.4f}, Acc={test_acc_alex:.2f}%, F1={test_f1_alex:.2f}%, Time={alex_training_time:.2f}s\")"
      ],
      "metadata": {
        "id": "IkWmh9qvwOVf"
      },
      "execution_count": null,
      "outputs": []
    },
    {
      "cell_type": "code",
      "source": [
        "class ViT(nn.Module):\n",
        "    def __init__(self, image_size=28, patch_size=7, num_classes=10, dim=64, depth=6, heads=8, mlp_dim=128):\n",
        "        super(ViT, self).__init__()\n",
        "        num_patches = (image_size // patch_size) ** 2\n",
        "        patch_dim = 1 * patch_size * patch_size\n",
        "\n",
        "        self.patch_embedding = nn.Linear(patch_dim, dim)\n",
        "        self.pos_embedding = nn.Parameter(torch.randn(1, num_patches + 1, dim))\n",
        "        self.cls_token = nn.Parameter(torch.randn(1, 1, dim))\n",
        "        self.transformer = nn.TransformerEncoder(\n",
        "            nn.TransformerEncoderLayer(d_model=dim, nhead=heads, dim_feedforward=mlp_dim), num_layers=depth\n",
        "        )\n",
        "        self.mlp_head = nn.Sequential(\n",
        "            nn.LayerNorm(dim),\n",
        "            nn.Linear(dim, num_classes)\n",
        "        )\n",
        "\n",
        "    def forward(self, x):\n",
        "        b, c, h, w = x.shape\n",
        "        x = x.view(b, c, h // 7, 7, w // 7, 7).permute(0, 2, 4, 1, 3, 5).reshape(b, 16, -1)\n",
        "        x = self.patch_embedding(x)\n",
        "        cls_tokens = self.cls_token.expand(b, -1, -1)\n",
        "        x = torch.cat((cls_tokens, x), dim=1)\n",
        "        x = x + self.pos_embedding\n",
        "        x = self.transformer(x)\n",
        "        x = self.mlp_head(x[:, 0])\n",
        "        return x\n",
        "\n",
        "model_vit = ViT().to(device)"
      ],
      "metadata": {
        "id": "JSZvBAHLwU1i"
      },
      "execution_count": null,
      "outputs": []
    },
    {
      "cell_type": "code",
      "source": [
        "optimizer_vit = optim.Adam(model_vit.parameters(), lr=0.001)\n",
        "\n",
        "start_time = time.time()\n",
        "for epoch in range(num_epochs):\n",
        "    train_loss, train_acc = train_model(model_vit, train_loader, criterion, optimizer_vit, device)\n",
        "    print(f\"Epoch {epoch+1}/{num_epochs}, Train Loss: {train_loss:.4f}, Train Acc: {train_acc:.2f}%\")\n",
        "vit_training_time = time.time() - start_time\n",
        "\n",
        "test_loss_vit, test_acc_vit, test_f1_vit = evaluate_model(model_vit, test_loader, criterion, device)\n",
        "print(f\"ViT - Test Loss: {test_loss_vit:.4f}, Test Acc: {test_acc_vit:.2f}%, Test F1: {test_f1_vit:.2f}%, Training Time: {vit_training_time:.2f}s\")"
      ],
      "metadata": {
        "id": "SDeSzMT-wXtj"
      },
      "execution_count": null,
      "outputs": []
    },
    {
      "cell_type": "code",
      "source": [
        "print(\"Part 1 vs Part 2 Comparison:\")\n",
        "print(f\"CNN: Loss={test_loss_cnn:.4f}, Acc={test_acc_cnn:.2f}%, F1={test_f1_cnn:.2f}%, Time={cnn_training_time:.2f}s\")\n",
        "print(f\"ResNet50: Loss={test_loss_resnet:.4f}, Acc={test_acc_resnet:.2f}%, F1={test_f1_resnet:.2f}%, Time={resnet_training_time:.2f}s\")\n",
        "print(f\"VGG16: Loss={test_loss_vgg:.4f}, Acc={test_acc_vgg:.2f}%, F1={test_f1_vgg:.2f}%, Time={vgg_training_time:.2f}s\")\n",
        "print(f\"AlexNet: Loss={test_loss_alex:.4f}, Acc={test_acc_alex:.2f}%, F1={test_f1_alex:.2f}%, Time={alex_training_time:.2f}s\")\n",
        "print(f\"ViT: Loss={test_loss_vit:.4f}, Acc={test_acc_vit:.2f}%, F1={test_f1_vit:.2f}%, Time={vit_training_time:.2f}s\")"
      ],
      "metadata": {
        "id": "Q1KbpalywZOj"
      },
      "execution_count": null,
      "outputs": []
    }
  ],
  "metadata": {
    "colab": {
      "provenance": [],
      "gpuType": "T4"
    },
    "kernelspec": {
      "display_name": "Python 3",
      "name": "python3"
    },
    "language_info": {
      "name": "python"
    },
    "accelerator": "GPU"
  },
  "nbformat": 4,
  "nbformat_minor": 0
}